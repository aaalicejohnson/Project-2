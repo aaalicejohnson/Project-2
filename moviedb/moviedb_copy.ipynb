{
 "cells": [
  {
   "cell_type": "code",
   "execution_count": 5,
   "id": "5cb36a59",
   "metadata": {},
   "outputs": [],
   "source": [
    "#Dependencies\n",
    "import pandas as pd\n",
    "import requests\n",
    "import json\n",
    "import config\n",
    "\n",
    "from config import api_key\n",
    "from pprint import pprint"
   ]
  },
  {
   "cell_type": "code",
   "execution_count": 7,
   "id": "e0e6065f",
   "metadata": {},
   "outputs": [
    {
     "data": {
      "text/plain": [
       "0                Dick Johnson Is Dead\n",
       "1    My Little Pony: A New Generation\n",
       "2                             Sankofa\n",
       "3                        The Starling\n",
       "4                        Je Suis Karl\n",
       "Name: title, dtype: object"
      ]
     },
     "execution_count": 7,
     "metadata": {},
     "output_type": "execute_result"
    }
   ],
   "source": [
    "netflix_file = \"../Resources/Netflix_Movies.csv\"\n",
    "netflix_df = pd.read_csv(netflix_file)\n",
    "movies = netflix_df['title']\n",
    "\n",
    "movies.head()"
   ]
  },
  {
   "cell_type": "code",
   "execution_count": 8,
   "id": "e0981f09",
   "metadata": {},
   "outputs": [
    {
     "ename": "NameError",
     "evalue": "name 'api_key' is not defined",
     "output_type": "error",
     "traceback": [
      "\u001b[0;31m---------------------------------------------------------------------------\u001b[0m",
      "\u001b[0;31mNameError\u001b[0m                                 Traceback (most recent call last)",
      "\u001b[0;32m/var/folders/_5/tl_fg6kj0fgcl6db6q221h7h0000gn/T/ipykernel_15865/2189212421.py\u001b[0m in \u001b[0;36m<module>\u001b[0;34m\u001b[0m\n\u001b[0;32m----> 1\u001b[0;31m \u001b[0murl\u001b[0m \u001b[0;34m=\u001b[0m \u001b[0;34mf\"https://api.themoviedb.org/3/search/movie?api_key={api_key}&query={movie_title}\"\u001b[0m\u001b[0;34m\u001b[0m\u001b[0;34m\u001b[0m\u001b[0m\n\u001b[0m\u001b[1;32m      2\u001b[0m \u001b[0mprint\u001b[0m\u001b[0;34m(\u001b[0m\u001b[0murl\u001b[0m\u001b[0;34m)\u001b[0m\u001b[0;34m\u001b[0m\u001b[0;34m\u001b[0m\u001b[0m\n",
      "\u001b[0;31mNameError\u001b[0m: name 'api_key' is not defined"
     ]
    }
   ],
   "source": [
    "url = f\"https://api.themoviedb.org/3/search/movie?api_key={api_key}&query={movie_title}\"\n",
    "print(url)"
   ]
  },
  {
   "cell_type": "code",
   "execution_count": 186,
   "id": "3e8f6842",
   "metadata": {},
   "outputs": [
    {
     "data": {
      "text/plain": [
       "<Response [422]>"
      ]
     },
     "execution_count": 186,
     "metadata": {},
     "output_type": "execute_result"
    }
   ],
   "source": [
    "response = requests.get(url)\n",
    "response"
   ]
  },
  {
   "cell_type": "code",
   "execution_count": 182,
   "id": "0a17a6e8",
   "metadata": {},
   "outputs": [
    {
     "name": "stdout",
     "output_type": "stream",
     "text": [
      "{'status_code': 7,\n",
      " 'status_message': 'Invalid API key: You must be granted a valid key.',\n",
      " 'success': False}\n"
     ]
    }
   ],
   "source": [
    "response_json = response.json()\n",
    "pprint(response_json)"
   ]
  },
  {
   "cell_type": "markdown",
   "id": "8c4d71f1",
   "metadata": {},
   "source": [
    "### Notes"
   ]
  },
  {
   "cell_type": "code",
   "execution_count": null,
   "id": "9da067e6",
   "metadata": {},
   "outputs": [],
   "source": [
    "# url = f\"https://api.themoviedb.org/3/movie/{movie_id}?api_key={api_key}&language=en-US\""
   ]
  },
  {
   "cell_type": "code",
   "execution_count": 136,
   "id": "2e5cbf21",
   "metadata": {},
   "outputs": [
    {
     "name": "stdout",
     "output_type": "stream",
     "text": [
      "{'adult': False,\n",
      " 'backdrop_path': '/rAiYTfKGqDCRIIqo664sY9XZIvQ.jpg',\n",
      " 'belongs_to_collection': None,\n",
      " 'budget': 165000000,\n",
      " 'genres': [{'id': 12, 'name': 'Adventure'},\n",
      "            {'id': 18, 'name': 'Drama'},\n",
      "            {'id': 878, 'name': 'Science Fiction'}],\n",
      " 'homepage': 'http://www.interstellarmovie.net/',\n",
      " 'id': 157336,\n",
      " 'imdb_id': 'tt0816692',\n",
      " 'original_language': 'en',\n",
      " 'original_title': 'Interstellar',\n",
      " 'overview': 'The adventures of a group of explorers who make use of a newly '\n",
      "             'discovered wormhole to surpass the limitations on human space '\n",
      "             'travel and conquer the vast distances involved in an '\n",
      "             'interstellar voyage.',\n",
      " 'popularity': 112.254,\n",
      " 'poster_path': '/gEU2QniE6E77NI6lCU6MxlNBvIx.jpg',\n",
      " 'production_companies': [{'id': 923,\n",
      "                           'logo_path': '/5UQsZrfbfG2dYJbx8DxfoTr2Bvu.png',\n",
      "                           'name': 'Legendary Pictures',\n",
      "                           'origin_country': 'US'},\n",
      "                          {'id': 9996,\n",
      "                           'logo_path': '/3tvBqYsBhxWeHlu62SIJ1el93O7.png',\n",
      "                           'name': 'Syncopy',\n",
      "                           'origin_country': 'GB'},\n",
      "                          {'id': 13769,\n",
      "                           'logo_path': None,\n",
      "                           'name': 'Lynda Obst Productions',\n",
      "                           'origin_country': ''}],\n",
      " 'production_countries': [{'iso_3166_1': 'GB', 'name': 'United Kingdom'},\n",
      "                          {'iso_3166_1': 'US',\n",
      "                           'name': 'United States of America'}],\n",
      " 'release_date': '2014-11-05',\n",
      " 'revenue': 701729206,\n",
      " 'runtime': 169,\n",
      " 'spoken_languages': [{'english_name': 'English',\n",
      "                       'iso_639_1': 'en',\n",
      "                       'name': 'English'}],\n",
      " 'status': 'Released',\n",
      " 'tagline': 'Mankind was born on Earth. It was never meant to die here.',\n",
      " 'title': 'Interstellar',\n",
      " 'video': False,\n",
      " 'vote_average': 8.384,\n",
      " 'vote_count': 29904}\n"
     ]
    }
   ],
   "source": [
    "# response_json = response.json()\n",
    "# pprint(response_json)"
   ]
  },
  {
   "cell_type": "code",
   "execution_count": 189,
   "id": "db148e83",
   "metadata": {},
   "outputs": [
    {
     "name": "stdout",
     "output_type": "stream",
     "text": [
      "https://api.themoviedb.org/3/search/movie?api_key=375c912d67ffb83e0106b39fdeeaafd2&query=Jack+Reacher\n"
     ]
    }
   ],
   "source": [
    "url = f\"https://api.themoviedb.org/3/search/movie?api_key={api_key}&query=Jack+Reacher\"\n",
    "print(url)"
   ]
  },
  {
   "cell_type": "code",
   "execution_count": 190,
   "id": "517c2cb0",
   "metadata": {},
   "outputs": [
    {
     "data": {
      "text/plain": [
       "<Response [200]>"
      ]
     },
     "execution_count": 190,
     "metadata": {},
     "output_type": "execute_result"
    }
   ],
   "source": [
    "response = requests.get(url)\n",
    "response"
   ]
  },
  {
   "cell_type": "code",
   "execution_count": 191,
   "id": "a000cd28",
   "metadata": {},
   "outputs": [
    {
     "name": "stdout",
     "output_type": "stream",
     "text": [
      "{'page': 1,\n",
      " 'results': [{'adult': False,\n",
      "              'backdrop_path': '/2v3pC01rf0uXnECOM94pjfqk1TY.jpg',\n",
      "              'genre_ids': [80, 18, 53, 28],\n",
      "              'id': 75780,\n",
      "              'original_language': 'en',\n",
      "              'original_title': 'Jack Reacher',\n",
      "              'overview': 'When a gunman takes five lives with six shots, all '\n",
      "                          'evidence points to the suspect in custody. On '\n",
      "                          'interrogation, the suspect offers up a single note: '\n",
      "                          '\"Get Jack Reacher!\" So begins an extraordinary '\n",
      "                          'chase for the truth, pitting Jack Reacher against '\n",
      "                          'an unexpected enemy, with a skill for violence and '\n",
      "                          'a secret to keep.',\n",
      "              'popularity': 44.821,\n",
      "              'poster_path': '/uQBbjrLVsUibWxNDGA4Czzo8lwz.jpg',\n",
      "              'release_date': '2012-12-20',\n",
      "              'title': 'Jack Reacher',\n",
      "              'video': False,\n",
      "              'vote_average': 6.6,\n",
      "              'vote_count': 6076},\n",
      "             {'adult': False,\n",
      "              'backdrop_path': '/ww1eIoywghjoMzRLRIcbJLuKnJH.jpg',\n",
      "              'genre_ids': [28, 53],\n",
      "              'id': 343611,\n",
      "              'original_language': 'en',\n",
      "              'original_title': 'Jack Reacher: Never Go Back',\n",
      "              'overview': 'When Major Susan Turner is arrested for treason, '\n",
      "                          'ex-investigator Jack Reacher undertakes the '\n",
      "                          'challenging task to prove her innocence and ends up '\n",
      "                          'exposing a shocking conspiracy.',\n",
      "              'popularity': 36.457,\n",
      "              'poster_path': '/bvCEEs5l3ylNIgH4foqOmQk0qdi.jpg',\n",
      "              'release_date': '2016-10-19',\n",
      "              'title': 'Jack Reacher: Never Go Back',\n",
      "              'video': False,\n",
      "              'vote_average': 5.9,\n",
      "              'vote_count': 4199},\n",
      "             {'adult': False,\n",
      "              'backdrop_path': None,\n",
      "              'genre_ids': [99],\n",
      "              'id': 1045592,\n",
      "              'original_language': 'en',\n",
      "              'original_title': 'Jack Reacher: When the Man Comes Around',\n",
      "              'overview': 'Cast and crew speak on adapting One Shot as the '\n",
      "                          'first Jack Reacher film, casting Tom Cruise, '\n",
      "                          \"earning Lee Child's blessing, additional character \"\n",
      "                          'qualities and the performances that shape them, Lee '\n",
      "                          \"Child's cameo in the film, and shooting the film's \"\n",
      "                          'climax.',\n",
      "              'popularity': 2.464,\n",
      "              'poster_path': None,\n",
      "              'release_date': '2013-05-07',\n",
      "              'title': 'Jack Reacher: When the Man Comes Around',\n",
      "              'video': False,\n",
      "              'vote_average': 0,\n",
      "              'vote_count': 0}],\n",
      " 'total_pages': 1,\n",
      " 'total_results': 3}\n"
     ]
    }
   ],
   "source": [
    "response_json = response.json()\n",
    "pprint(response_json)"
   ]
  }
 ],
 "metadata": {
  "kernelspec": {
   "display_name": "PythonData",
   "language": "python",
   "name": "pythondata"
  },
  "language_info": {
   "codemirror_mode": {
    "name": "ipython",
    "version": 3
   },
   "file_extension": ".py",
   "mimetype": "text/x-python",
   "name": "python",
   "nbconvert_exporter": "python",
   "pygments_lexer": "ipython3",
   "version": "3.7.7"
  }
 },
 "nbformat": 4,
 "nbformat_minor": 5
}
