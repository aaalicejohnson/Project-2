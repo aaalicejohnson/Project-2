{
 "cells": [
  {
   "cell_type": "code",
   "execution_count": 22,
   "id": "f05b0aad",
   "metadata": {},
   "outputs": [],
   "source": [
    "#Dependencies\n",
    "import requests\n",
    "import json\n",
    "from config import api_key\n",
    "from pprint import pprint"
   ]
  },
  {
   "cell_type": "code",
   "execution_count": 23,
   "id": "9958a8a5",
   "metadata": {},
   "outputs": [],
   "source": [
    "url = \"https://api.themoviedb.org/3/movie/{movie_id}?api_key=<<api_key>>&language=en-US\"\n",
    "api_key = \"&apikey=\" + api_key"
   ]
  },
  {
   "cell_type": "code",
   "execution_count": 24,
   "id": "0c4e17b7",
   "metadata": {},
   "outputs": [
    {
     "name": "stdout",
     "output_type": "stream",
     "text": [
      "<Response [401]>\n"
     ]
    }
   ],
   "source": [
    "# Print the response object to the console\n",
    "print(requests.get(url))"
   ]
  },
  {
   "cell_type": "code",
   "execution_count": 20,
   "id": "61c1a57b",
   "metadata": {},
   "outputs": [],
   "source": [
    "response = requests.get(url + api_key)"
   ]
  },
  {
   "cell_type": "code",
   "execution_count": 21,
   "id": "3f8b1571",
   "metadata": {},
   "outputs": [
    {
     "name": "stdout",
     "output_type": "stream",
     "text": [
      "{'status_code': 7,\n",
      " 'status_message': 'Invalid API key: You must be granted a valid key.',\n",
      " 'success': False}\n"
     ]
    }
   ],
   "source": [
    "data = response.json()\n",
    "pprint(data)"
   ]
  },
  {
   "cell_type": "code",
   "execution_count": null,
   "id": "e451fd91",
   "metadata": {},
   "outputs": [],
   "source": []
  }
 ],
 "metadata": {
  "kernelspec": {
   "display_name": "PythonData",
   "language": "python",
   "name": "pythondata"
  },
  "language_info": {
   "codemirror_mode": {
    "name": "ipython",
    "version": 3
   },
   "file_extension": ".py",
   "mimetype": "text/x-python",
   "name": "python",
   "nbconvert_exporter": "python",
   "pygments_lexer": "ipython3",
   "version": "3.7.7"
  }
 },
 "nbformat": 4,
 "nbformat_minor": 5
}
