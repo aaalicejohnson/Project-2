{
 "cells": [
  {
   "cell_type": "code",
   "execution_count": 193,
<<<<<<< HEAD
   "id": "ee4ffdcd",
=======
   "id": "1e4acd7c",
>>>>>>> 27e07e9ba421180430dae3b95fa9974e0a1231d3
   "metadata": {},
   "outputs": [],
   "source": [
    "#Dependencies\n",
    "import pandas as pd\n",
    "import requests\n",
    "import json\n",
    "from config import api_key\n",
    "from pprint import pprint"
   ]
  },
  {
   "cell_type": "code",
<<<<<<< HEAD
   "execution_count": 197,
   "id": "62cbaa98",
   "metadata": {},
   "outputs": [
    {
     "data": {
      "text/html": [
       "<div>\n",
       "<style scoped>\n",
       "    .dataframe tbody tr th:only-of-type {\n",
       "        vertical-align: middle;\n",
       "    }\n",
       "\n",
       "    .dataframe tbody tr th {\n",
       "        vertical-align: top;\n",
       "    }\n",
       "\n",
       "    .dataframe thead th {\n",
       "        text-align: right;\n",
       "    }\n",
       "</style>\n",
       "<table border=\"1\" class=\"dataframe\">\n",
       "  <thead>\n",
       "    <tr style=\"text-align: right;\">\n",
       "      <th></th>\n",
       "      <th>show_id</th>\n",
       "      <th>type</th>\n",
       "      <th>title</th>\n",
       "      <th>director</th>\n",
       "      <th>cast</th>\n",
       "      <th>country</th>\n",
       "      <th>date_added</th>\n",
       "      <th>release_year</th>\n",
       "      <th>rating</th>\n",
       "      <th>duration</th>\n",
       "      <th>listed_in</th>\n",
       "      <th>description</th>\n",
       "    </tr>\n",
       "  </thead>\n",
       "  <tbody>\n",
       "    <tr>\n",
       "      <th>0</th>\n",
       "      <td>s1</td>\n",
       "      <td>Movie</td>\n",
       "      <td>Dick Johnson Is Dead</td>\n",
       "      <td>Kirsten Johnson</td>\n",
       "      <td>NaN</td>\n",
       "      <td>United States</td>\n",
       "      <td>September 25, 2021</td>\n",
       "      <td>2020</td>\n",
       "      <td>PG-13</td>\n",
       "      <td>90 min</td>\n",
       "      <td>Documentaries</td>\n",
       "      <td>As her father nears the end of his life, filmm...</td>\n",
       "    </tr>\n",
       "    <tr>\n",
       "      <th>1</th>\n",
       "      <td>s2</td>\n",
       "      <td>TV Show</td>\n",
       "      <td>Blood &amp; Water</td>\n",
       "      <td>NaN</td>\n",
       "      <td>Ama Qamata, Khosi Ngema, Gail Mabalane, Thaban...</td>\n",
       "      <td>South Africa</td>\n",
       "      <td>September 24, 2021</td>\n",
       "      <td>2021</td>\n",
       "      <td>TV-MA</td>\n",
       "      <td>2 Seasons</td>\n",
       "      <td>International TV Shows, TV Dramas, TV Mysteries</td>\n",
       "      <td>After crossing paths at a party, a Cape Town t...</td>\n",
       "    </tr>\n",
       "    <tr>\n",
       "      <th>2</th>\n",
       "      <td>s3</td>\n",
       "      <td>TV Show</td>\n",
       "      <td>Ganglands</td>\n",
       "      <td>Julien Leclercq</td>\n",
       "      <td>Sami Bouajila, Tracy Gotoas, Samuel Jouy, Nabi...</td>\n",
       "      <td>NaN</td>\n",
       "      <td>September 24, 2021</td>\n",
       "      <td>2021</td>\n",
       "      <td>TV-MA</td>\n",
       "      <td>1 Season</td>\n",
       "      <td>Crime TV Shows, International TV Shows, TV Act...</td>\n",
       "      <td>To protect his family from a powerful drug lor...</td>\n",
       "    </tr>\n",
       "    <tr>\n",
       "      <th>3</th>\n",
       "      <td>s4</td>\n",
       "      <td>TV Show</td>\n",
       "      <td>Jailbirds New Orleans</td>\n",
       "      <td>NaN</td>\n",
       "      <td>NaN</td>\n",
       "      <td>NaN</td>\n",
       "      <td>September 24, 2021</td>\n",
       "      <td>2021</td>\n",
       "      <td>TV-MA</td>\n",
       "      <td>1 Season</td>\n",
       "      <td>Docuseries, Reality TV</td>\n",
       "      <td>Feuds, flirtations and toilet talk go down amo...</td>\n",
       "    </tr>\n",
       "    <tr>\n",
       "      <th>4</th>\n",
       "      <td>s5</td>\n",
       "      <td>TV Show</td>\n",
       "      <td>Kota Factory</td>\n",
       "      <td>NaN</td>\n",
       "      <td>Mayur More, Jitendra Kumar, Ranjan Raj, Alam K...</td>\n",
       "      <td>India</td>\n",
       "      <td>September 24, 2021</td>\n",
       "      <td>2021</td>\n",
       "      <td>TV-MA</td>\n",
       "      <td>2 Seasons</td>\n",
       "      <td>International TV Shows, Romantic TV Shows, TV ...</td>\n",
       "      <td>In a city of coaching centers known to train I...</td>\n",
       "    </tr>\n",
       "  </tbody>\n",
       "</table>\n",
       "</div>"
      ],
      "text/plain": [
       "  show_id     type                  title         director  \\\n",
       "0      s1    Movie   Dick Johnson Is Dead  Kirsten Johnson   \n",
       "1      s2  TV Show          Blood & Water              NaN   \n",
       "2      s3  TV Show              Ganglands  Julien Leclercq   \n",
       "3      s4  TV Show  Jailbirds New Orleans              NaN   \n",
       "4      s5  TV Show           Kota Factory              NaN   \n",
       "\n",
       "                                                cast        country  \\\n",
       "0                                                NaN  United States   \n",
       "1  Ama Qamata, Khosi Ngema, Gail Mabalane, Thaban...   South Africa   \n",
       "2  Sami Bouajila, Tracy Gotoas, Samuel Jouy, Nabi...            NaN   \n",
       "3                                                NaN            NaN   \n",
       "4  Mayur More, Jitendra Kumar, Ranjan Raj, Alam K...          India   \n",
       "\n",
       "           date_added  release_year rating   duration  \\\n",
       "0  September 25, 2021          2020  PG-13     90 min   \n",
       "1  September 24, 2021          2021  TV-MA  2 Seasons   \n",
       "2  September 24, 2021          2021  TV-MA   1 Season   \n",
       "3  September 24, 2021          2021  TV-MA   1 Season   \n",
       "4  September 24, 2021          2021  TV-MA  2 Seasons   \n",
       "\n",
       "                                           listed_in  \\\n",
       "0                                      Documentaries   \n",
       "1    International TV Shows, TV Dramas, TV Mysteries   \n",
       "2  Crime TV Shows, International TV Shows, TV Act...   \n",
       "3                             Docuseries, Reality TV   \n",
       "4  International TV Shows, Romantic TV Shows, TV ...   \n",
       "\n",
       "                                         description  \n",
       "0  As her father nears the end of his life, filmm...  \n",
       "1  After crossing paths at a party, a Cape Town t...  \n",
       "2  To protect his family from a powerful drug lor...  \n",
       "3  Feuds, flirtations and toilet talk go down amo...  \n",
       "4  In a city of coaching centers known to train I...  "
      ]
     },
     "execution_count": 197,
     "metadata": {},
     "output_type": "execute_result"
    }
   ],
   "source": [
    "csv_file = \"../Resources/netflix_titles.csv\"\n",
    "netflix_df = pd.read_csv(csv_file)\n",
    "netflix_df.head()"
   ]
  },
  {
   "cell_type": "code",
   "execution_count": 187,
   "id": "6050f33d",
=======
   "execution_count": 187,
   "id": "07cb634d",
>>>>>>> 27e07e9ba421180430dae3b95fa9974e0a1231d3
   "metadata": {},
   "outputs": [
    {
     "name": "stdout",
     "output_type": "stream",
     "text": [
      "https://api.themoviedb.org/3/search/movie?api_key=375c912d67ffb83e0106b39fdeeaafd2&language=en-US&page=1&include_adult=false\n"
     ]
    }
   ],
   "source": [
    "url = f\"https://api.themoviedb.org/3/search/movie?api_key={api_key}&language=en-US&page=1&include_adult=false\"\n",
    "print(url)"
   ]
  },
  {
   "cell_type": "code",
   "execution_count": 186,
<<<<<<< HEAD
   "id": "7ab9caca",
=======
   "id": "43cdbe8c",
>>>>>>> 27e07e9ba421180430dae3b95fa9974e0a1231d3
   "metadata": {},
   "outputs": [
    {
     "data": {
      "text/plain": [
       "<Response [422]>"
      ]
     },
     "execution_count": 186,
     "metadata": {},
     "output_type": "execute_result"
    }
   ],
   "source": [
    "response = requests.get(url)\n",
    "response"
   ]
  },
  {
   "cell_type": "code",
   "execution_count": 182,
<<<<<<< HEAD
   "id": "c304d420",
=======
   "id": "ee63802f",
>>>>>>> 27e07e9ba421180430dae3b95fa9974e0a1231d3
   "metadata": {},
   "outputs": [
    {
     "name": "stdout",
     "output_type": "stream",
     "text": [
      "{'status_code': 7,\n",
      " 'status_message': 'Invalid API key: You must be granted a valid key.',\n",
      " 'success': False}\n"
     ]
    }
   ],
   "source": [
    "response_json = response.json()\n",
    "pprint(response_json)"
   ]
  },
  {
   "cell_type": "markdown",
<<<<<<< HEAD
   "id": "fa66eca5",
=======
   "id": "8065bf24",
>>>>>>> 27e07e9ba421180430dae3b95fa9974e0a1231d3
   "metadata": {},
   "source": [
    "### Notes"
   ]
  },
  {
   "cell_type": "code",
   "execution_count": null,
<<<<<<< HEAD
   "id": "9c10de05",
=======
   "id": "71f9e5b0",
>>>>>>> 27e07e9ba421180430dae3b95fa9974e0a1231d3
   "metadata": {},
   "outputs": [],
   "source": [
    "# url = f\"https://api.themoviedb.org/3/movie/{movie_id}?api_key={api_key}&language=en-US\""
   ]
  },
  {
   "cell_type": "code",
   "execution_count": 136,
<<<<<<< HEAD
   "id": "9828f214",
=======
   "id": "c38304e3",
>>>>>>> 27e07e9ba421180430dae3b95fa9974e0a1231d3
   "metadata": {},
   "outputs": [
    {
     "name": "stdout",
     "output_type": "stream",
     "text": [
      "{'adult': False,\n",
      " 'backdrop_path': '/rAiYTfKGqDCRIIqo664sY9XZIvQ.jpg',\n",
      " 'belongs_to_collection': None,\n",
      " 'budget': 165000000,\n",
      " 'genres': [{'id': 12, 'name': 'Adventure'},\n",
      "            {'id': 18, 'name': 'Drama'},\n",
      "            {'id': 878, 'name': 'Science Fiction'}],\n",
      " 'homepage': 'http://www.interstellarmovie.net/',\n",
      " 'id': 157336,\n",
      " 'imdb_id': 'tt0816692',\n",
      " 'original_language': 'en',\n",
      " 'original_title': 'Interstellar',\n",
      " 'overview': 'The adventures of a group of explorers who make use of a newly '\n",
      "             'discovered wormhole to surpass the limitations on human space '\n",
      "             'travel and conquer the vast distances involved in an '\n",
      "             'interstellar voyage.',\n",
      " 'popularity': 112.254,\n",
      " 'poster_path': '/gEU2QniE6E77NI6lCU6MxlNBvIx.jpg',\n",
      " 'production_companies': [{'id': 923,\n",
      "                           'logo_path': '/5UQsZrfbfG2dYJbx8DxfoTr2Bvu.png',\n",
      "                           'name': 'Legendary Pictures',\n",
      "                           'origin_country': 'US'},\n",
      "                          {'id': 9996,\n",
      "                           'logo_path': '/3tvBqYsBhxWeHlu62SIJ1el93O7.png',\n",
      "                           'name': 'Syncopy',\n",
      "                           'origin_country': 'GB'},\n",
      "                          {'id': 13769,\n",
      "                           'logo_path': None,\n",
      "                           'name': 'Lynda Obst Productions',\n",
      "                           'origin_country': ''}],\n",
      " 'production_countries': [{'iso_3166_1': 'GB', 'name': 'United Kingdom'},\n",
      "                          {'iso_3166_1': 'US',\n",
      "                           'name': 'United States of America'}],\n",
      " 'release_date': '2014-11-05',\n",
      " 'revenue': 701729206,\n",
      " 'runtime': 169,\n",
      " 'spoken_languages': [{'english_name': 'English',\n",
      "                       'iso_639_1': 'en',\n",
      "                       'name': 'English'}],\n",
      " 'status': 'Released',\n",
      " 'tagline': 'Mankind was born on Earth. It was never meant to die here.',\n",
      " 'title': 'Interstellar',\n",
      " 'video': False,\n",
      " 'vote_average': 8.384,\n",
      " 'vote_count': 29904}\n"
     ]
    }
   ],
   "source": [
    "# response_json = response.json()\n",
    "# pprint(response_json)"
   ]
  },
  {
   "cell_type": "code",
   "execution_count": 189,
<<<<<<< HEAD
   "id": "da2576e1",
=======
   "id": "f9ddf3bf",
>>>>>>> 27e07e9ba421180430dae3b95fa9974e0a1231d3
   "metadata": {},
   "outputs": [
    {
     "name": "stdout",
     "output_type": "stream",
     "text": [
      "https://api.themoviedb.org/3/search/movie?api_key=375c912d67ffb83e0106b39fdeeaafd2&query=Jack+Reacher\n"
     ]
    }
   ],
   "source": [
<<<<<<< HEAD
    "# url = f\"https://api.themoviedb.org/3/search/movie?api_key={api_key}&query=Jack+Reacher\"\n",
    "# print(url)"
=======
    "url = f\"https://api.themoviedb.org/3/search/movie?api_key={api_key}&query=Jack+Reacher\"\n",
    "print(url)"
>>>>>>> 27e07e9ba421180430dae3b95fa9974e0a1231d3
   ]
  },
  {
   "cell_type": "code",
   "execution_count": 190,
<<<<<<< HEAD
   "id": "3922020b",
=======
   "id": "f296d369",
>>>>>>> 27e07e9ba421180430dae3b95fa9974e0a1231d3
   "metadata": {},
   "outputs": [
    {
     "data": {
      "text/plain": [
       "<Response [200]>"
      ]
     },
     "execution_count": 190,
     "metadata": {},
     "output_type": "execute_result"
    }
   ],
   "source": [
<<<<<<< HEAD
    "# response = requests.get(url)\n",
    "# response"
=======
    "response = requests.get(url)\n",
    "response"
>>>>>>> 27e07e9ba421180430dae3b95fa9974e0a1231d3
   ]
  },
  {
   "cell_type": "code",
   "execution_count": 191,
<<<<<<< HEAD
   "id": "a83fa07c",
=======
   "id": "03e98bfa",
>>>>>>> 27e07e9ba421180430dae3b95fa9974e0a1231d3
   "metadata": {},
   "outputs": [
    {
     "name": "stdout",
     "output_type": "stream",
     "text": [
      "{'page': 1,\n",
      " 'results': [{'adult': False,\n",
      "              'backdrop_path': '/2v3pC01rf0uXnECOM94pjfqk1TY.jpg',\n",
      "              'genre_ids': [80, 18, 53, 28],\n",
      "              'id': 75780,\n",
      "              'original_language': 'en',\n",
      "              'original_title': 'Jack Reacher',\n",
      "              'overview': 'When a gunman takes five lives with six shots, all '\n",
      "                          'evidence points to the suspect in custody. On '\n",
      "                          'interrogation, the suspect offers up a single note: '\n",
      "                          '\"Get Jack Reacher!\" So begins an extraordinary '\n",
      "                          'chase for the truth, pitting Jack Reacher against '\n",
      "                          'an unexpected enemy, with a skill for violence and '\n",
      "                          'a secret to keep.',\n",
      "              'popularity': 44.821,\n",
      "              'poster_path': '/uQBbjrLVsUibWxNDGA4Czzo8lwz.jpg',\n",
      "              'release_date': '2012-12-20',\n",
      "              'title': 'Jack Reacher',\n",
      "              'video': False,\n",
      "              'vote_average': 6.6,\n",
      "              'vote_count': 6076},\n",
      "             {'adult': False,\n",
      "              'backdrop_path': '/ww1eIoywghjoMzRLRIcbJLuKnJH.jpg',\n",
      "              'genre_ids': [28, 53],\n",
      "              'id': 343611,\n",
      "              'original_language': 'en',\n",
      "              'original_title': 'Jack Reacher: Never Go Back',\n",
      "              'overview': 'When Major Susan Turner is arrested for treason, '\n",
      "                          'ex-investigator Jack Reacher undertakes the '\n",
      "                          'challenging task to prove her innocence and ends up '\n",
      "                          'exposing a shocking conspiracy.',\n",
      "              'popularity': 36.457,\n",
      "              'poster_path': '/bvCEEs5l3ylNIgH4foqOmQk0qdi.jpg',\n",
      "              'release_date': '2016-10-19',\n",
      "              'title': 'Jack Reacher: Never Go Back',\n",
      "              'video': False,\n",
      "              'vote_average': 5.9,\n",
      "              'vote_count': 4199},\n",
      "             {'adult': False,\n",
      "              'backdrop_path': None,\n",
      "              'genre_ids': [99],\n",
      "              'id': 1045592,\n",
      "              'original_language': 'en',\n",
      "              'original_title': 'Jack Reacher: When the Man Comes Around',\n",
      "              'overview': 'Cast and crew speak on adapting One Shot as the '\n",
      "                          'first Jack Reacher film, casting Tom Cruise, '\n",
      "                          \"earning Lee Child's blessing, additional character \"\n",
      "                          'qualities and the performances that shape them, Lee '\n",
      "                          \"Child's cameo in the film, and shooting the film's \"\n",
      "                          'climax.',\n",
      "              'popularity': 2.464,\n",
      "              'poster_path': None,\n",
      "              'release_date': '2013-05-07',\n",
      "              'title': 'Jack Reacher: When the Man Comes Around',\n",
      "              'video': False,\n",
      "              'vote_average': 0,\n",
      "              'vote_count': 0}],\n",
      " 'total_pages': 1,\n",
      " 'total_results': 3}\n"
     ]
    }
   ],
   "source": [
<<<<<<< HEAD
    "# response_json = response.json()\n",
    "# pprint(response_json)"
=======
    "response_json = response.json()\n",
    "pprint(response_json)"
>>>>>>> 27e07e9ba421180430dae3b95fa9974e0a1231d3
   ]
  }
 ],
 "metadata": {
  "kernelspec": {
   "display_name": "PythonData",
   "language": "python",
   "name": "pythondata"
  },
  "language_info": {
   "codemirror_mode": {
    "name": "ipython",
    "version": 3
   },
   "file_extension": ".py",
   "mimetype": "text/x-python",
   "name": "python",
   "nbconvert_exporter": "python",
   "pygments_lexer": "ipython3",
   "version": "3.7.7"
  }
 },
 "nbformat": 4,
 "nbformat_minor": 5
}
