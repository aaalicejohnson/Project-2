{
 "cells": [
  {
   "cell_type": "code",
   "execution_count": 39,
   "id": "a02cf962",
   "metadata": {},
   "outputs": [],
   "source": [
    "# Import relevant libraries\n",
    "from splinter import Browser\n",
    "from bs4 import BeautifulSoup as soup\n",
    "from webdriver_manager.chrome import ChromeDriverManager"
   ]
  },
  {
   "cell_type": "code",
   "execution_count": 24,
   "id": "289e2a98",
   "metadata": {},
   "outputs": [],
   "source": [
    "executable_path = {'executable_path': ChromeDriverManager().install()}\n",
    "browser = Browser('chrome', **executable_path, headless=False)"
   ]
  },
  {
   "cell_type": "code",
   "execution_count": 25,
   "id": "19f9e8f1",
   "metadata": {},
   "outputs": [],
   "source": [
    "# Visit the website\n",
    "url ='https://www.whats-on-netflix.com/library/movies/'\n",
    "browser.visit(url)\n",
    "html=browser.html"
   ]
  },
  {
   "cell_type": "code",
   "execution_count": 44,
   "id": "fc8eabeb",
   "metadata": {},
   "outputs": [
    {
     "name": "stdout",
     "output_type": "stream",
     "text": [
      "<table aria-describedby=\"netflixlist_info\" class=\"dataTable no-footer\" data-page-length=\"25\" id=\"netflixlist\" role=\"grid\" style=\"width: 100%;\" width=\"100%\">\n",
      "<thead>\n",
      "<tr role=\"row\"><th aria-label=\"\" class=\"details-control sorting_asc\" colspan=\"1\" rowspan=\"1\" style=\"width: 0px;\"></th><th aria-label=\"Cover\" class=\"align-left sorting_disabled\" colspan=\"1\" rowspan=\"1\" style=\"width: 56.5312px;\" width=\"100px\">Cover</th><th aria-controls=\"netflixlist\" aria-label=\"Title Name: activate to sort column ascending\" class=\"align-left sorting\" colspan=\"1\" rowspan=\"1\" style=\"width: 119.656px;\" tabindex=\"0\" width=\"300px\">Title Name</th><th aria-controls=\"netflixlist\" aria-label=\"Language: activate to sort column ascending\" class=\"align-left sorting\" colspan=\"1\" rowspan=\"1\" style=\"width: 61.8203px;\" tabindex=\"0\">Language</th><th aria-controls=\"netflixlist\" aria-label=\"Released: activate to sort column ascending\" class=\"dt-body-right align-left sorting\" colspan=\"1\" rowspan=\"1\" style=\"width: 57.9453px;\" tabindex=\"0\">Released</th><th aria-controls=\"netflixlist\" aria-label=\"Rating: activate to sort column ascending\" class=\"align-left sorting\" colspan=\"1\" rowspan=\"1\" style=\"width: 40.7188px;\" tabindex=\"0\">Rating</th><th aria-controls=\"netflixlist\" aria-label=\"IMDb: activate to sort column ascending\" class=\"dt-body-right align-left sorting\" colspan=\"1\" rowspan=\"1\" style=\"width: 33.3281px;\" tabindex=\"0\">IMDb</th></tr>\n",
      "</thead>\n",
      "<tbody><tr class=\"odd\"><td class=\"dataTables_empty\" colspan=\"7\" valign=\"top\">Loading...</td></tr></tbody></table>\n"
     ]
    }
   ],
   "source": [
    "# Create a Beautiful Soup Object\n",
    "soup = soup(html,'html.parser')\n",
    "# table = soup.find('table',class_='dataTable')\n",
    "table = soup.find('table',id='netflixlist')\n",
    "print(table)\n"
   ]
  },
  {
   "cell_type": "code",
   "execution_count": 61,
   "id": "dc311b68",
   "metadata": {},
   "outputs": [
    {
     "name": "stdout",
     "output_type": "stream",
     "text": [
      "[<td class=\"dataTables_empty\" colspan=\"7\" valign=\"top\">Loading...</td>]\n"
     ]
    }
   ],
   "source": [
    "data_list=[]\n",
    "\n",
    "# Loop through the scraped data to create a list of rows\n",
    "# for data in table.find_all('thead'):\n",
    "#     rows = data.find_all('th')\n",
    "\n",
    "    \n",
    "for data in table.find_all('tbody'):\n",
    "    rows= data.find_all('td')\n",
    "    print(rows)\n",
    "#     for row in rows:\n",
    "#         count=0;\n",
    "# #         print(row.find_all('td'))\n",
    "#         try:\n",
    "#             dict={}\n",
    "#             dict['movie_name']=row.find_all('td')[2].text\n",
    "#             print(row.find_all('td')[2].text)\n",
    "#             dict['language']=row.find_all('td')[3].text\n",
    "#             dict['released']=row.find_all('td')[4].text\n",
    "#             print(dict)\n",
    "#             data_list.append(dict)\n",
    "#             count = count+1\n",
    "#         except Exception as e:\n",
    "#             print(e)\n",
    "#     print(count)\n",
    "#     print(len(data_list))\n",
    "#     print(len(rows))\n",
    "            \n",
    "    \n"
   ]
  },
  {
   "cell_type": "code",
   "execution_count": null,
   "id": "a35e3086",
   "metadata": {},
   "outputs": [],
   "source": []
  }
 ],
 "metadata": {
  "kernelspec": {
   "display_name": "PythonData",
   "language": "python",
   "name": "pythondata"
  },
  "language_info": {
   "codemirror_mode": {
    "name": "ipython",
    "version": 3
   },
   "file_extension": ".py",
   "mimetype": "text/x-python",
   "name": "python",
   "nbconvert_exporter": "python",
   "pygments_lexer": "ipython3",
   "version": "3.7.7"
  }
 },
 "nbformat": 4,
 "nbformat_minor": 5
}
